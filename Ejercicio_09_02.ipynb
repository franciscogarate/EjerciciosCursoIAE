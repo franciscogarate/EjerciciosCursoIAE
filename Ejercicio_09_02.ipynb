{
 "cells": [
  {
   "cell_type": "markdown",
   "metadata": {},
   "source": [
    "# Ejercicio 9.2\n",
    "\n",
    "Utilizando Pandas y NumPy, calcular el NPV de 100 euros pagaderos en 10 anualidades, desde el 31-12-2019 al 31-12-2028.\n",
    "\n",
    "* Descontados al 2%"
   ]
  },
  {
   "cell_type": "code",
   "execution_count": 5,
   "metadata": {},
   "outputs": [
    {
     "name": "stdout",
     "output_type": "stream",
     "text": [
      "NPV: 916.22\n"
     ]
    }
   ],
   "source": [
    "import pandas as pd\n",
    "import numpy as np\n",
    "s = pd.date_range(start='2019-12-31', periods=10, freq='Y')\n",
    "df = pd.DataFrame(s, columns=['Fecha'])\n",
    "df['Importe'] = 100.\n",
    "df['factor'] = 1 / (1+0.02) ** df.index\n",
    "print(\"NPV: %.2f\" % (np.vdot(df.Importe, df.factor)))"
   ]
  },
  {
   "cell_type": "markdown",
   "metadata": {},
   "source": [
    "* Descontados utilizando la curva libre de riesgo (RFR) de EIOPA a 31-12-2019."
   ]
  },
  {
   "cell_type": "code",
   "execution_count": 2,
   "metadata": {},
   "outputs": [
    {
     "name": "stdout",
     "output_type": "stream",
     "text": [
      "       Fecha  Importe    factor      rfr  factor_rfr\n",
      "0 2019-12-31    100.0  1.000000 -0.00421    1.004228\n",
      "1 2020-12-31    100.0  0.980392 -0.00391    1.007866\n",
      "2 2021-12-31    100.0  0.961169 -0.00338    1.010209\n",
      "3 2022-12-31    100.0  0.942322 -0.00285    1.011482\n",
      "4 2023-12-31    100.0  0.923845 -0.00229    1.011529\n",
      "5 2024-12-31    100.0  0.905731 -0.00164    1.009897\n",
      "6 2025-12-31    100.0  0.887971 -0.00084    1.005900\n",
      "7 2026-12-31    100.0  0.870560 -0.00018    1.001441\n",
      "8 2027-12-31    100.0  0.853490  0.00047    0.995780\n",
      "9 2028-12-31    100.0  0.836755  0.00113    0.988770\n"
     ]
    }
   ],
   "source": [
    "filename='EIOPA_RFR_20191231_Term_Structures.xlsx'\n",
    "sheetname='RFR_spot_no_VA'\n",
    "rfr = pd.read_excel(filename, sheet_name=sheetname, skiprows=9, usecols=(1,2), names=['t','Euro'])\n",
    "df['rfr'] = rfr['Euro'].loc[:10].copy()\n",
    "df['factor_rfr'] = 1 / (1+df.rfr) ** (df.index+1)\n",
    "print(df)"
   ]
  },
  {
   "cell_type": "code",
   "execution_count": 4,
   "metadata": {},
   "outputs": [
    {
     "name": "stdout",
     "output_type": "stream",
     "text": [
      "NPV (RFR): 1004.71\n"
     ]
    }
   ],
   "source": [
    "print(\"NPV (RFR): %.2f\" % (np.vdot(df.Importe, df.factor_rfr)))"
   ]
  }
 ],
 "metadata": {
  "kernelspec": {
   "display_name": "Python 3",
   "language": "python",
   "name": "python3"
  },
  "language_info": {
   "codemirror_mode": {
    "name": "ipython",
    "version": 3
   },
   "file_extension": ".py",
   "mimetype": "text/x-python",
   "name": "python",
   "nbconvert_exporter": "python",
   "pygments_lexer": "ipython3",
   "version": "3.7.0"
  }
 },
 "nbformat": 4,
 "nbformat_minor": 2
}
