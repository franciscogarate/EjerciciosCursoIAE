{
 "cells": [
  {
   "cell_type": "markdown",
   "metadata": {},
   "source": [
    "# Ejercicio 7.1"
   ]
  },
  {
   "cell_type": "markdown",
   "metadata": {},
   "source": [
    "En el submódulo de riesgo de prima y reservas, determinados parámetros generales pueden sustituirse por parámetros específicos de la empresa (art. 218 del Reglamento Delegado), cumpliendo entre otros aspectos, las hipótesis previstas en el ANEXO XVII:\n",
    "\n",
    "*Los datos se ajustarán a las siguientes hipótesis:\n",
    "i. la siniestralidad agregada para un determinado segmento y año de accidente es linealmente proporcionalcon respecto a las primas devengadas en un determinado año de accidente;*\n",
    "\n",
    "Se pide, para los siguientes datos, validar el cumplimiento de la anterior hipótesis:\n",
    "\n",
    "| Dato | 2012 | 2013 | 2014 | 2015 | 2016 | 2017 | 2018 | 2019 |\n",
    "| --- | --- | --- | --- | --- | --- | --- | --- | --- |\n",
    "Siniestralidad agregada | 461210 | 518830 | 574390 | 690200 | 706580 | 740550 | 763660 | 804950\n",
    "Primas | 482880 | 546620 | 591390 | 690240 | 707440 | 751330 | 791320 | 848870\n"
   ]
  },
  {
   "cell_type": "code",
   "execution_count": 2,
   "metadata": {},
   "outputs": [
    {
     "data": {
      "text/html": [
       "<div>\n",
       "<style scoped>\n",
       "    .dataframe tbody tr th:only-of-type {\n",
       "        vertical-align: middle;\n",
       "    }\n",
       "\n",
       "    .dataframe tbody tr th {\n",
       "        vertical-align: top;\n",
       "    }\n",
       "\n",
       "    .dataframe thead th {\n",
       "        text-align: right;\n",
       "    }\n",
       "</style>\n",
       "<table border=\"1\" class=\"dataframe\">\n",
       "  <thead>\n",
       "    <tr style=\"text-align: right;\">\n",
       "      <th></th>\n",
       "      <th>Siniestros</th>\n",
       "      <th>Primas</th>\n",
       "    </tr>\n",
       "  </thead>\n",
       "  <tbody>\n",
       "    <tr>\n",
       "      <th>0</th>\n",
       "      <td>461210</td>\n",
       "      <td>482880</td>\n",
       "    </tr>\n",
       "    <tr>\n",
       "      <th>1</th>\n",
       "      <td>518830</td>\n",
       "      <td>546620</td>\n",
       "    </tr>\n",
       "    <tr>\n",
       "      <th>2</th>\n",
       "      <td>574390</td>\n",
       "      <td>591390</td>\n",
       "    </tr>\n",
       "    <tr>\n",
       "      <th>3</th>\n",
       "      <td>690200</td>\n",
       "      <td>690240</td>\n",
       "    </tr>\n",
       "    <tr>\n",
       "      <th>4</th>\n",
       "      <td>706580</td>\n",
       "      <td>707440</td>\n",
       "    </tr>\n",
       "    <tr>\n",
       "      <th>5</th>\n",
       "      <td>740550</td>\n",
       "      <td>751330</td>\n",
       "    </tr>\n",
       "    <tr>\n",
       "      <th>6</th>\n",
       "      <td>763660</td>\n",
       "      <td>791320</td>\n",
       "    </tr>\n",
       "    <tr>\n",
       "      <th>7</th>\n",
       "      <td>804950</td>\n",
       "      <td>848870</td>\n",
       "    </tr>\n",
       "  </tbody>\n",
       "</table>\n",
       "</div>"
      ],
      "text/plain": [
       "   Siniestros  Primas\n",
       "0      461210  482880\n",
       "1      518830  546620\n",
       "2      574390  591390\n",
       "3      690200  690240\n",
       "4      706580  707440\n",
       "5      740550  751330\n",
       "6      763660  791320\n",
       "7      804950  848870"
      ]
     },
     "execution_count": 2,
     "metadata": {},
     "output_type": "execute_result"
    }
   ],
   "source": [
    "import scipy.stats as st\n",
    "import matplotlib.pyplot as plt\n",
    "import numpy as np\n",
    "import pandas as pd\n",
    "\n",
    "Siniestros = [461210, 518830, 574390, 690200, 706580, 740550, 763660, 804950]\n",
    "Primas = [482880, 546620, 591390, 690240, 707440, 751330, 791320, 848870]\n",
    "\n",
    "datos = pd.DataFrame(data=Siniestros, columns=['Siniestros'])\n",
    "datos['Primas'] = Primas\n",
    "datos"
   ]
  },
  {
   "cell_type": "code",
   "execution_count": 3,
   "metadata": {},
   "outputs": [
    {
     "name": "stdout",
     "output_type": "stream",
     "text": [
      "LinregressResult(slope=0.9787489052289522, intercept=-4343.70808626269, rvalue=0.9930831027009589, pvalue=8.230349577691557e-07, stderr=0.04724201780618194)\n"
     ]
    }
   ],
   "source": [
    "modelo = st.linregress(datos.Primas, datos.Siniestros)\n",
    "print(modelo)"
   ]
  },
  {
   "cell_type": "code",
   "execution_count": 4,
   "metadata": {},
   "outputs": [
    {
     "name": "stdout",
     "output_type": "stream",
     "text": [
      "0.04724201780618194 8.230349577691557e-07\n"
     ]
    }
   ],
   "source": [
    "coef = modelo.slope\n",
    "intercept = modelo.intercept\n",
    "error_estandar = modelo.stderr\n",
    "p_valor = modelo.pvalue\n",
    "print(error_estandar, p_valor)"
   ]
  },
  {
   "cell_type": "code",
   "execution_count": 5,
   "metadata": {},
   "outputs": [
    {
     "data": {
      "image/png": "[encoded data removed]",
      "text/plain": [
       "<Figure size 432x288 with 1 Axes>"
      ]
     },
     "metadata": {},
     "output_type": "display_data"
    }
   ],
   "source": [
    "plt.style.use('ggplot')\n",
    "plt.scatter(Primas, Siniestros, color='c')\n",
    "x = np.linspace(min(Primas),max(Primas),500)\n",
    "y = coef * x + intercept\n",
    "plt.plot(x, y)\n",
    "plt.show()"
   ]
  }
 ],
 "metadata": {
  "kernelspec": {
   "display_name": "Python 3",
   "language": "python",
   "name": "python3"
  },
  "language_info": {
   "codemirror_mode": {
    "name": "ipython",
    "version": 3
   },
   "file_extension": ".py",
   "mimetype": "text/x-python",
   "name": "python",
   "nbconvert_exporter": "python",
   "pygments_lexer": "ipython3",
   "version": "3.7.3"
  }
 },
 "nbformat": 4,
 "nbformat_minor": 2
}
