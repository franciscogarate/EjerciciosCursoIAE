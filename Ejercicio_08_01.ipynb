{
 "cells": [
  {
   "cell_type": "markdown",
   "metadata": {},
   "source": [
    "# Ejercicio 8.1 *Loss Reserving* basado en triángulos *run-off* de pagos\n",
    "\n",
    "## ChainLadder con Python\n",
    "El método CL (van Eeghen, 1981) es un modelo matemático donde no se tiene en cuenta la incertidumbre a la hora de estimar la cuantía de los futuros pagos (en nuestro caso, el valor de la provisión monetaria a constituir).\n",
    "La suposición del método CL es que los patrones de desarrollo de las pérdidas están basados en comportamientos históricos. Así, mostrando los datos de siniestros de forma bidimensional (matriz) bajo 2 características: fecha de ocurrencia y fecha de pago de los mismos. El objetivo es obtener el factor de crecimiento de los pagos (age-to-age factors) o link ratios.\n",
    "\n",
    "## Pandas y NumPy\n",
    "\n",
    "El primer paso consiste en importar los datos (10.000 siniestros ficticios desde 2013 al 2018), comprobar que no existen ausencia de datos y mostramos los 10 primeros registros:"
   ]
  },
  {
   "cell_type": "code",
   "execution_count": 1,
   "metadata": {},
   "outputs": [
    {
     "name": "stdout",
     "output_type": "stream",
     "text": [
      "Claim_ID         False\n",
      "Policy_ID        False\n",
      "Accident_Date    False\n",
      "Report_Date      False\n",
      "Payment_Date     False\n",
      "Indemnity        False\n",
      "dtype: bool\n"
     ]
    },
    {
     "data": {
      "text/html": [
       "<div>\n",
       "<style scoped>\n",
       "    .dataframe tbody tr th:only-of-type {\n",
       "        vertical-align: middle;\n",
       "    }\n",
       "\n",
       "    .dataframe tbody tr th {\n",
       "        vertical-align: top;\n",
       "    }\n",
       "\n",
       "    .dataframe thead th {\n",
       "        text-align: right;\n",
       "    }\n",
       "</style>\n",
       "<table border=\"1\" class=\"dataframe\">\n",
       "  <thead>\n",
       "    <tr style=\"text-align: right;\">\n",
       "      <th></th>\n",
       "      <th>Claim_ID</th>\n",
       "      <th>Policy_ID</th>\n",
       "      <th>Accident_Date</th>\n",
       "      <th>Report_Date</th>\n",
       "      <th>Payment_Date</th>\n",
       "      <th>Indemnity</th>\n",
       "    </tr>\n",
       "  </thead>\n",
       "  <tbody>\n",
       "    <tr>\n",
       "      <th>0</th>\n",
       "      <td>1</td>\n",
       "      <td>31082</td>\n",
       "      <td>2016-09-12</td>\n",
       "      <td>2016-09-21</td>\n",
       "      <td>2017-07-03</td>\n",
       "      <td>83</td>\n",
       "    </tr>\n",
       "    <tr>\n",
       "      <th>1</th>\n",
       "      <td>2</td>\n",
       "      <td>61275</td>\n",
       "      <td>2017-11-20</td>\n",
       "      <td>2018-01-03</td>\n",
       "      <td>2018-02-02</td>\n",
       "      <td>71</td>\n",
       "    </tr>\n",
       "    <tr>\n",
       "      <th>2</th>\n",
       "      <td>3</td>\n",
       "      <td>72257</td>\n",
       "      <td>2013-06-10</td>\n",
       "      <td>2013-06-25</td>\n",
       "      <td>2013-07-15</td>\n",
       "      <td>115</td>\n",
       "    </tr>\n",
       "    <tr>\n",
       "      <th>3</th>\n",
       "      <td>4</td>\n",
       "      <td>73111</td>\n",
       "      <td>2013-09-17</td>\n",
       "      <td>2013-10-05</td>\n",
       "      <td>2018-09-20</td>\n",
       "      <td>67</td>\n",
       "    </tr>\n",
       "    <tr>\n",
       "      <th>4</th>\n",
       "      <td>5</td>\n",
       "      <td>84755</td>\n",
       "      <td>2017-06-30</td>\n",
       "      <td>2017-07-12</td>\n",
       "      <td>2017-09-30</td>\n",
       "      <td>122</td>\n",
       "    </tr>\n",
       "  </tbody>\n",
       "</table>\n",
       "</div>"
      ],
      "text/plain": [
       "   Claim_ID  Policy_ID Accident_Date Report_Date Payment_Date  Indemnity\n",
       "0         1      31082    2016-09-12  2016-09-21   2017-07-03         83\n",
       "1         2      61275    2017-11-20  2018-01-03   2018-02-02         71\n",
       "2         3      72257    2013-06-10  2013-06-25   2013-07-15        115\n",
       "3         4      73111    2013-09-17  2013-10-05   2018-09-20         67\n",
       "4         5      84755    2017-06-30  2017-07-12   2017-09-30        122"
      ]
     },
     "execution_count": 1,
     "metadata": {},
     "output_type": "execute_result"
    }
   ],
   "source": [
    "import pandas as pd\n",
    "import numpy as np\n",
    "\n",
    "data = pd.read_csv('data_claims.csv',sep=';')\n",
    "\n",
    "# Check for missing data\n",
    "print(data.isnull().any())\n",
    "data.head()"
   ]
  },
  {
   "cell_type": "markdown",
   "metadata": {},
   "source": [
    "Una vez importados los datos, modificamos los campos de fecha con el formato de fecha adecuado.\n",
    "\n",
    "*Si formato original no fuera YYYY-MM-DD utilizar pd.to_datetime(data['Accident_Date'], format='%d-%m-%Y')*"
   ]
  },
  {
   "cell_type": "code",
   "execution_count": 2,
   "metadata": {},
   "outputs": [
    {
     "data": {
      "text/html": [
       "<div>\n",
       "<style scoped>\n",
       "    .dataframe tbody tr th:only-of-type {\n",
       "        vertical-align: middle;\n",
       "    }\n",
       "\n",
       "    .dataframe tbody tr th {\n",
       "        vertical-align: top;\n",
       "    }\n",
       "\n",
       "    .dataframe thead th {\n",
       "        text-align: right;\n",
       "    }\n",
       "</style>\n",
       "<table border=\"1\" class=\"dataframe\">\n",
       "  <thead>\n",
       "    <tr style=\"text-align: right;\">\n",
       "      <th></th>\n",
       "      <th>Claim_ID</th>\n",
       "      <th>Policy_ID</th>\n",
       "      <th>Accident_Date</th>\n",
       "      <th>Report_Date</th>\n",
       "      <th>Payment_Date</th>\n",
       "      <th>Indemnity</th>\n",
       "    </tr>\n",
       "  </thead>\n",
       "  <tbody>\n",
       "    <tr>\n",
       "      <th>0</th>\n",
       "      <td>1</td>\n",
       "      <td>31082</td>\n",
       "      <td>2016-09-12</td>\n",
       "      <td>2016-09-21</td>\n",
       "      <td>2017-07-03</td>\n",
       "      <td>83</td>\n",
       "    </tr>\n",
       "    <tr>\n",
       "      <th>1</th>\n",
       "      <td>2</td>\n",
       "      <td>61275</td>\n",
       "      <td>2017-11-20</td>\n",
       "      <td>2018-01-03</td>\n",
       "      <td>2018-02-02</td>\n",
       "      <td>71</td>\n",
       "    </tr>\n",
       "    <tr>\n",
       "      <th>2</th>\n",
       "      <td>3</td>\n",
       "      <td>72257</td>\n",
       "      <td>2013-06-10</td>\n",
       "      <td>2013-06-25</td>\n",
       "      <td>2013-07-15</td>\n",
       "      <td>115</td>\n",
       "    </tr>\n",
       "    <tr>\n",
       "      <th>3</th>\n",
       "      <td>4</td>\n",
       "      <td>73111</td>\n",
       "      <td>2013-09-17</td>\n",
       "      <td>2013-10-05</td>\n",
       "      <td>2018-09-20</td>\n",
       "      <td>67</td>\n",
       "    </tr>\n",
       "    <tr>\n",
       "      <th>4</th>\n",
       "      <td>5</td>\n",
       "      <td>84755</td>\n",
       "      <td>2017-06-30</td>\n",
       "      <td>2017-07-12</td>\n",
       "      <td>2017-09-30</td>\n",
       "      <td>122</td>\n",
       "    </tr>\n",
       "  </tbody>\n",
       "</table>\n",
       "</div>"
      ],
      "text/plain": [
       "   Claim_ID  Policy_ID Accident_Date Report_Date Payment_Date  Indemnity\n",
       "0         1      31082    2016-09-12  2016-09-21   2017-07-03         83\n",
       "1         2      61275    2017-11-20  2018-01-03   2018-02-02         71\n",
       "2         3      72257    2013-06-10  2013-06-25   2013-07-15        115\n",
       "3         4      73111    2013-09-17  2013-10-05   2018-09-20         67\n",
       "4         5      84755    2017-06-30  2017-07-12   2017-09-30        122"
      ]
     },
     "execution_count": 2,
     "metadata": {},
     "output_type": "execute_result"
    }
   ],
   "source": [
    "data['Accident_Date'] = pd.to_datetime(data['Accident_Date'])\n",
    "data['Payment_Date'] = pd.to_datetime(data['Payment_Date'])\n",
    "data.head()"
   ]
  },
  {
   "cell_type": "markdown",
   "metadata": {},
   "source": [
    "Acto seguido, bien creamos nuevos campos con el año (ejemplo *Accident_Year*) o, como en este caso, modificamos dichos campos convertiendolos a una periocidad anual (utilizo la variable *freq* para posteriormente modificar la periodicidad facilmente)."
   ]
  },
  {
   "cell_type": "code",
   "execution_count": 3,
   "metadata": {},
   "outputs": [],
   "source": [
    "freq='Y' \n",
    "data['Accident_Date'] = data['Accident_Date'].dt.to_period(freq=freq)\n",
    "data['Payment_Date'] = data['Payment_Date'].dt.to_period(freq=freq)"
   ]
  },
  {
   "cell_type": "markdown",
   "metadata": {},
   "source": [
    "Calculamos un nuevo campo llamado ‘Dev’ con el periodo de tiempo transcurrido (o desarrollo) como la diferencia entre ambos periodos (en este caso años) restandolos como números enteros:"
   ]
  },
  {
   "cell_type": "code",
   "execution_count": 4,
   "metadata": {},
   "outputs": [
    {
     "data": {
      "text/html": [
       "<div>\n",
       "<style scoped>\n",
       "    .dataframe tbody tr th:only-of-type {\n",
       "        vertical-align: middle;\n",
       "    }\n",
       "\n",
       "    .dataframe tbody tr th {\n",
       "        vertical-align: top;\n",
       "    }\n",
       "\n",
       "    .dataframe thead th {\n",
       "        text-align: right;\n",
       "    }\n",
       "</style>\n",
       "<table border=\"1\" class=\"dataframe\">\n",
       "  <thead>\n",
       "    <tr style=\"text-align: right;\">\n",
       "      <th></th>\n",
       "      <th>Claim_ID</th>\n",
       "      <th>Policy_ID</th>\n",
       "      <th>Accident_Date</th>\n",
       "      <th>Report_Date</th>\n",
       "      <th>Payment_Date</th>\n",
       "      <th>Indemnity</th>\n",
       "      <th>Dev</th>\n",
       "    </tr>\n",
       "  </thead>\n",
       "  <tbody>\n",
       "    <tr>\n",
       "      <th>0</th>\n",
       "      <td>1</td>\n",
       "      <td>31082</td>\n",
       "      <td>2016</td>\n",
       "      <td>2016-09-21</td>\n",
       "      <td>2017</td>\n",
       "      <td>83</td>\n",
       "      <td>1</td>\n",
       "    </tr>\n",
       "    <tr>\n",
       "      <th>1</th>\n",
       "      <td>2</td>\n",
       "      <td>61275</td>\n",
       "      <td>2017</td>\n",
       "      <td>2018-01-03</td>\n",
       "      <td>2018</td>\n",
       "      <td>71</td>\n",
       "      <td>1</td>\n",
       "    </tr>\n",
       "    <tr>\n",
       "      <th>2</th>\n",
       "      <td>3</td>\n",
       "      <td>72257</td>\n",
       "      <td>2013</td>\n",
       "      <td>2013-06-25</td>\n",
       "      <td>2013</td>\n",
       "      <td>115</td>\n",
       "      <td>0</td>\n",
       "    </tr>\n",
       "    <tr>\n",
       "      <th>3</th>\n",
       "      <td>4</td>\n",
       "      <td>73111</td>\n",
       "      <td>2013</td>\n",
       "      <td>2013-10-05</td>\n",
       "      <td>2018</td>\n",
       "      <td>67</td>\n",
       "      <td>5</td>\n",
       "    </tr>\n",
       "    <tr>\n",
       "      <th>4</th>\n",
       "      <td>5</td>\n",
       "      <td>84755</td>\n",
       "      <td>2017</td>\n",
       "      <td>2017-07-12</td>\n",
       "      <td>2017</td>\n",
       "      <td>122</td>\n",
       "      <td>0</td>\n",
       "    </tr>\n",
       "  </tbody>\n",
       "</table>\n",
       "</div>"
      ],
      "text/plain": [
       "   Claim_ID  Policy_ID Accident_Date Report_Date Payment_Date  Indemnity  Dev\n",
       "0         1      31082          2016  2016-09-21         2017         83    1\n",
       "1         2      61275          2017  2018-01-03         2018         71    1\n",
       "2         3      72257          2013  2013-06-25         2013        115    0\n",
       "3         4      73111          2013  2013-10-05         2018         67    5\n",
       "4         5      84755          2017  2017-07-12         2017        122    0"
      ]
     },
     "execution_count": 4,
     "metadata": {},
     "output_type": "execute_result"
    }
   ],
   "source": [
    "data['Dev'] = data['Payment_Date'].astype(int) - data['Accident_Date'].astype(int)\n",
    "data.head()"
   ]
  },
  {
   "cell_type": "markdown",
   "metadata": {},
   "source": [
    "Agrupamos por año de accidente y año de desarrollo usando groupby(), y sumamos las cantidades de los siniestros:"
   ]
  },
  {
   "cell_type": "code",
   "execution_count": 5,
   "metadata": {},
   "outputs": [
    {
     "data": {
      "text/html": [
       "<div>\n",
       "<style scoped>\n",
       "    .dataframe tbody tr th:only-of-type {\n",
       "        vertical-align: middle;\n",
       "    }\n",
       "\n",
       "    .dataframe tbody tr th {\n",
       "        vertical-align: top;\n",
       "    }\n",
       "\n",
       "    .dataframe thead th {\n",
       "        text-align: right;\n",
       "    }\n",
       "</style>\n",
       "<table border=\"1\" class=\"dataframe\">\n",
       "  <thead>\n",
       "    <tr style=\"text-align: right;\">\n",
       "      <th></th>\n",
       "      <th>Accident_Date</th>\n",
       "      <th>Dev</th>\n",
       "      <th>Indemnity</th>\n",
       "    </tr>\n",
       "  </thead>\n",
       "  <tbody>\n",
       "    <tr>\n",
       "      <th>0</th>\n",
       "      <td>2013</td>\n",
       "      <td>0</td>\n",
       "      <td>118066</td>\n",
       "    </tr>\n",
       "    <tr>\n",
       "      <th>1</th>\n",
       "      <td>2013</td>\n",
       "      <td>1</td>\n",
       "      <td>25877</td>\n",
       "    </tr>\n",
       "    <tr>\n",
       "      <th>2</th>\n",
       "      <td>2013</td>\n",
       "      <td>2</td>\n",
       "      <td>12392</td>\n",
       "    </tr>\n",
       "    <tr>\n",
       "      <th>3</th>\n",
       "      <td>2013</td>\n",
       "      <td>3</td>\n",
       "      <td>9743</td>\n",
       "    </tr>\n",
       "    <tr>\n",
       "      <th>4</th>\n",
       "      <td>2013</td>\n",
       "      <td>4</td>\n",
       "      <td>8599</td>\n",
       "    </tr>\n",
       "  </tbody>\n",
       "</table>\n",
       "</div>"
      ],
      "text/plain": [
       "  Accident_Date  Dev  Indemnity\n",
       "0          2013    0     118066\n",
       "1          2013    1      25877\n",
       "2          2013    2      12392\n",
       "3          2013    3       9743\n",
       "4          2013    4       8599"
      ]
     },
     "execution_count": 5,
     "metadata": {},
     "output_type": "execute_result"
    }
   ],
   "source": [
    "datagg = data.groupby(['Accident_Date','Dev']).agg({'Indemnity':'sum'}).reset_index()\n",
    "datagg.head()"
   ]
  },
  {
   "cell_type": "markdown",
   "metadata": {},
   "source": [
    "Y una vez agrupados, guardamos los datos en una tabla 2-D (pivot table) basada en estas dos variables:"
   ]
  },
  {
   "cell_type": "code",
   "execution_count": 6,
   "metadata": {},
   "outputs": [
    {
     "data": {
      "text/html": [
       "<div>\n",
       "<style scoped>\n",
       "    .dataframe tbody tr th:only-of-type {\n",
       "        vertical-align: middle;\n",
       "    }\n",
       "\n",
       "    .dataframe tbody tr th {\n",
       "        vertical-align: top;\n",
       "    }\n",
       "\n",
       "    .dataframe thead th {\n",
       "        text-align: right;\n",
       "    }\n",
       "</style>\n",
       "<table border=\"1\" class=\"dataframe\">\n",
       "  <thead>\n",
       "    <tr style=\"text-align: right;\">\n",
       "      <th>Dev</th>\n",
       "      <th>0</th>\n",
       "      <th>1</th>\n",
       "      <th>2</th>\n",
       "      <th>3</th>\n",
       "      <th>4</th>\n",
       "      <th>5</th>\n",
       "    </tr>\n",
       "    <tr>\n",
       "      <th>Accident_Date</th>\n",
       "      <th></th>\n",
       "      <th></th>\n",
       "      <th></th>\n",
       "      <th></th>\n",
       "      <th></th>\n",
       "      <th></th>\n",
       "    </tr>\n",
       "  </thead>\n",
       "  <tbody>\n",
       "    <tr>\n",
       "      <th>2013</th>\n",
       "      <td>118066.0</td>\n",
       "      <td>25877.0</td>\n",
       "      <td>12392.0</td>\n",
       "      <td>9743.0</td>\n",
       "      <td>8599.0</td>\n",
       "      <td>8977.0</td>\n",
       "    </tr>\n",
       "    <tr>\n",
       "      <th>2014</th>\n",
       "      <td>119961.0</td>\n",
       "      <td>26543.0</td>\n",
       "      <td>13813.0</td>\n",
       "      <td>11509.0</td>\n",
       "      <td>10339.0</td>\n",
       "      <td>NaN</td>\n",
       "    </tr>\n",
       "    <tr>\n",
       "      <th>2015</th>\n",
       "      <td>108140.0</td>\n",
       "      <td>27975.0</td>\n",
       "      <td>18551.0</td>\n",
       "      <td>14250.0</td>\n",
       "      <td>NaN</td>\n",
       "      <td>NaN</td>\n",
       "    </tr>\n",
       "    <tr>\n",
       "      <th>2016</th>\n",
       "      <td>107660.0</td>\n",
       "      <td>34826.0</td>\n",
       "      <td>19814.0</td>\n",
       "      <td>NaN</td>\n",
       "      <td>NaN</td>\n",
       "      <td>NaN</td>\n",
       "    </tr>\n",
       "    <tr>\n",
       "      <th>2017</th>\n",
       "      <td>112042.0</td>\n",
       "      <td>51641.0</td>\n",
       "      <td>NaN</td>\n",
       "      <td>NaN</td>\n",
       "      <td>NaN</td>\n",
       "      <td>NaN</td>\n",
       "    </tr>\n",
       "    <tr>\n",
       "      <th>2018</th>\n",
       "      <td>133511.0</td>\n",
       "      <td>NaN</td>\n",
       "      <td>NaN</td>\n",
       "      <td>NaN</td>\n",
       "      <td>NaN</td>\n",
       "      <td>NaN</td>\n",
       "    </tr>\n",
       "  </tbody>\n",
       "</table>\n",
       "</div>"
      ],
      "text/plain": [
       "Dev                   0        1        2        3        4       5\n",
       "Accident_Date                                                      \n",
       "2013           118066.0  25877.0  12392.0   9743.0   8599.0  8977.0\n",
       "2014           119961.0  26543.0  13813.0  11509.0  10339.0     NaN\n",
       "2015           108140.0  27975.0  18551.0  14250.0      NaN     NaN\n",
       "2016           107660.0  34826.0  19814.0      NaN      NaN     NaN\n",
       "2017           112042.0  51641.0      NaN      NaN      NaN     NaN\n",
       "2018           133511.0      NaN      NaN      NaN      NaN     NaN"
      ]
     },
     "execution_count": 6,
     "metadata": {},
     "output_type": "execute_result"
    }
   ],
   "source": [
    "triangule = datagg.pivot(index='Accident_Date',columns='Dev',values='Indemnity')\n",
    "triangule"
   ]
  },
  {
   "cell_type": "markdown",
   "metadata": {},
   "source": [
    "A continuación, se calcula el triángulo con los pagos acumulados en el tiempo. Para acumular datos de un dataframe existe cumsum() aunque por defecto trabaja sumando las cifras de una columna, utilizando axis=1 logramos que sume filas.\n",
    "\n",
    "Nota: en cualquier momento podemos hacer una exportación a csv o excel con la instrucción: *triangule.to_excel(\"triangule.xls\")* o mostrarlo en pantalla con *print(triangule)*."
   ]
  },
  {
   "cell_type": "code",
   "execution_count": 7,
   "metadata": {},
   "outputs": [
    {
     "data": {
      "text/html": [
       "<div>\n",
       "<style scoped>\n",
       "    .dataframe tbody tr th:only-of-type {\n",
       "        vertical-align: middle;\n",
       "    }\n",
       "\n",
       "    .dataframe tbody tr th {\n",
       "        vertical-align: top;\n",
       "    }\n",
       "\n",
       "    .dataframe thead th {\n",
       "        text-align: right;\n",
       "    }\n",
       "</style>\n",
       "<table border=\"1\" class=\"dataframe\">\n",
       "  <thead>\n",
       "    <tr style=\"text-align: right;\">\n",
       "      <th>Dev</th>\n",
       "      <th>0</th>\n",
       "      <th>1</th>\n",
       "      <th>2</th>\n",
       "      <th>3</th>\n",
       "      <th>4</th>\n",
       "      <th>5</th>\n",
       "    </tr>\n",
       "    <tr>\n",
       "      <th>Accident_Date</th>\n",
       "      <th></th>\n",
       "      <th></th>\n",
       "      <th></th>\n",
       "      <th></th>\n",
       "      <th></th>\n",
       "      <th></th>\n",
       "    </tr>\n",
       "  </thead>\n",
       "  <tbody>\n",
       "    <tr>\n",
       "      <th>2013</th>\n",
       "      <td>118066.0</td>\n",
       "      <td>143943.0</td>\n",
       "      <td>156335.0</td>\n",
       "      <td>166078.0</td>\n",
       "      <td>174677.0</td>\n",
       "      <td>183654.0</td>\n",
       "    </tr>\n",
       "    <tr>\n",
       "      <th>2014</th>\n",
       "      <td>119961.0</td>\n",
       "      <td>146504.0</td>\n",
       "      <td>160317.0</td>\n",
       "      <td>171826.0</td>\n",
       "      <td>182165.0</td>\n",
       "      <td>NaN</td>\n",
       "    </tr>\n",
       "    <tr>\n",
       "      <th>2015</th>\n",
       "      <td>108140.0</td>\n",
       "      <td>136115.0</td>\n",
       "      <td>154666.0</td>\n",
       "      <td>168916.0</td>\n",
       "      <td>NaN</td>\n",
       "      <td>NaN</td>\n",
       "    </tr>\n",
       "    <tr>\n",
       "      <th>2016</th>\n",
       "      <td>107660.0</td>\n",
       "      <td>142486.0</td>\n",
       "      <td>162300.0</td>\n",
       "      <td>NaN</td>\n",
       "      <td>NaN</td>\n",
       "      <td>NaN</td>\n",
       "    </tr>\n",
       "    <tr>\n",
       "      <th>2017</th>\n",
       "      <td>112042.0</td>\n",
       "      <td>163683.0</td>\n",
       "      <td>NaN</td>\n",
       "      <td>NaN</td>\n",
       "      <td>NaN</td>\n",
       "      <td>NaN</td>\n",
       "    </tr>\n",
       "    <tr>\n",
       "      <th>2018</th>\n",
       "      <td>133511.0</td>\n",
       "      <td>NaN</td>\n",
       "      <td>NaN</td>\n",
       "      <td>NaN</td>\n",
       "      <td>NaN</td>\n",
       "      <td>NaN</td>\n",
       "    </tr>\n",
       "  </tbody>\n",
       "</table>\n",
       "</div>"
      ],
      "text/plain": [
       "Dev                   0         1         2         3         4         5\n",
       "Accident_Date                                                            \n",
       "2013           118066.0  143943.0  156335.0  166078.0  174677.0  183654.0\n",
       "2014           119961.0  146504.0  160317.0  171826.0  182165.0       NaN\n",
       "2015           108140.0  136115.0  154666.0  168916.0       NaN       NaN\n",
       "2016           107660.0  142486.0  162300.0       NaN       NaN       NaN\n",
       "2017           112042.0  163683.0       NaN       NaN       NaN       NaN\n",
       "2018           133511.0       NaN       NaN       NaN       NaN       NaN"
      ]
     },
     "execution_count": 7,
     "metadata": {},
     "output_type": "execute_result"
    }
   ],
   "source": [
    "accumulate = triangule.cumsum(axis=1)\n",
    "accumulate"
   ]
  },
  {
   "cell_type": "markdown",
   "metadata": {},
   "source": [
    "Ahora es el momento culminante, es decir, cuando se calcula el patrón de pagos o los factores de desarrollo: factores incrementales, link ratios o loss development factors (LDFs), y los factores acumulativos, final ratios o cumulative development factors (CDFs).\n",
    "\n",
    "El cálculo en este paso es la principal diferencia entre los diferentes métodos basados en triángulos de run-off: exclusión de mínimos/máximos, medias, trabajando con las varianzas, covarianzas, remuestreos, distribuciones, regresiones GLM con Poisson, etc..\n",
    "\n",
    "Espero que el código mostrado para un CL clásico sea suficientemente ilustrativo. Por comodidad, no he usado pd.Series() sino listas con unos que el *for* se encarga de alimentar. Suponemos que con el último pago se ha alcanzado el 100% de los pagos y no existen más datos en la cola."
   ]
  },
  {
   "cell_type": "code",
   "execution_count": 8,
   "metadata": {},
   "outputs": [],
   "source": [
    "n = len(accumulate)-1\n",
    "LDFs = np.ones(n)\n",
    "\n",
    "for i in range(n):\n",
    "    SumDev = pd.Series(accumulate[i][:n-i]).sum(skipna=True)\n",
    "    SumDevNext = pd.Series(accumulate[min(i+1,n)][:n-i]).sum(skipna=True)\n",
    "    LDFs[i] = SumDevNext/SumDev\n",
    "\n",
    "CDFs = np.ones(n+1)\n",
    "for i in range(n):\n",
    "    CDFs[i] = np.prod(LDFs[i:n])"
   ]
  },
  {
   "cell_type": "code",
   "execution_count": 9,
   "metadata": {},
   "outputs": [
    {
     "data": {
      "text/plain": [
       "(array([1.29487744, 1.11347022, 1.07532494, 1.0560455 , 1.051392  ]),\n",
       " array([1.7214495 , 1.32943045, 1.19395241, 1.11031779, 1.051392  ,\n",
       "        1.        ]))"
      ]
     },
     "execution_count": 9,
     "metadata": {},
     "output_type": "execute_result"
    }
   ],
   "source": [
    "LDFs, CDFs"
   ]
  },
  {
   "cell_type": "markdown",
   "metadata": {},
   "source": [
    "Con estos valores, calcular el **patrón de pagos** es fácil. La función reciprocal() devuelve el inverso del número (1/x). En la columna de ratios incrementales, reemplazo NaN por el valor de la columna de ratios accumulated ya que el primer valor de diff() siempre es NaN."
   ]
  },
  {
   "cell_type": "code",
   "execution_count": 11,
   "metadata": {},
   "outputs": [
    {
     "data": {
      "text/plain": [
       "<matplotlib.axes._subplots.AxesSubplot at 0x1c9e05e2cc0>"
      ]
     },
     "execution_count": 11,
     "metadata": {},
     "output_type": "execute_result"
    },
    {
     "data": {
      "image/png": "[encoded data removed]",
      "text/plain": [
       "<Figure size 432x288 with 1 Axes>"
      ]
     },
     "metadata": {
      "needs_background": "light"
     },
     "output_type": "display_data"
    }
   ],
   "source": [
    "payment_pattern = pd.DataFrame(data=np.reciprocal(CDFs),columns=['Cum'])\n",
    "payment_pattern['Incr'] = payment_pattern['Cum'].diff().fillna(payment_pattern['Cum']) #First value of diff() is always NaN\n",
    "payment_pattern.plot()"
   ]
  },
  {
   "cell_type": "markdown",
   "metadata": {},
   "source": [
    "Ahora, tan solo multiplicando pagos y ratios finales de desarrollo (al último valor) obtenemos el valor del pago último, que restando los pagos actuales obtenemos el valor de la reserva monetaria a constituir.\n",
    "\n",
    "Para calcular el importe de los pagos actuales tenemos dos opciones: \n",
    "a) sumar horizontalmente (axis=1) el triángulo incremental, \n",
    "b) obtener la diagonal del triángulo acumulado. \n",
    "\n",
    "Aunque la primera opción es más fácil: *triangule.sum(axis=1, skipna=True).sum()* he querido utilizar la función diag() de numpy a efectos ilustrativos de las posibilidades de panda (flipud sirve para girar el triángulo ya que por defecto la función diagonal devuelve la diagonal empezando por [0,0] y acabando en [n,n].)"
   ]
  },
  {
   "cell_type": "code",
   "execution_count": 12,
   "metadata": {},
   "outputs": [
    {
     "data": {
      "text/plain": [
       "0    133511.0\n",
       "1    163683.0\n",
       "2    162300.0\n",
       "3    168916.0\n",
       "4    182165.0\n",
       "5    183654.0\n",
       "dtype: float64"
      ]
     },
     "execution_count": 12,
     "metadata": {},
     "output_type": "execute_result"
    }
   ],
   "source": [
    "diagonal = np.diag(np.flipud(accumulate))\n",
    "payments = pd.Series(data=diagonal)\n",
    "payments"
   ]
  },
  {
   "cell_type": "markdown",
   "metadata": {},
   "source": [
    "Cálculo del ultimate:"
   ]
  },
  {
   "cell_type": "code",
   "execution_count": 13,
   "metadata": {},
   "outputs": [
    {
     "data": {
      "text/plain": [
       "1203947.35"
      ]
     },
     "execution_count": 13,
     "metadata": {},
     "output_type": "execute_result"
    }
   ],
   "source": [
    "ultimate = np.vdot(CDFs, payments).round(2)\n",
    "ultimate"
   ]
  },
  {
   "cell_type": "markdown",
   "metadata": {},
   "source": [
    "Cálculo de la reserva:"
   ]
  },
  {
   "cell_type": "code",
   "execution_count": 14,
   "metadata": {},
   "outputs": [
    {
     "data": {
      "text/plain": [
       "209718.35"
      ]
     },
     "execution_count": 14,
     "metadata": {},
     "output_type": "execute_result"
    }
   ],
   "source": [
    "reserve = (ultimate - np.sum(payments)).round(2)\n",
    "reserve"
   ]
  },
  {
   "cell_type": "markdown",
   "metadata": {},
   "source": [
    "## Frecuencia\n",
    "¿Queremos calcular los ratios con información agrupada de forma trimestrales en vez de anuales? Si bien esto puede ser una ardua tarea si tenemos nuestros triángulos en Excel, en el código visto previamente tan solo habría que cambiar la variable 'Y' a 'Q'.\n",
    "\n",
    "El listado de valores posibles para el atributo freq se puede consultar en la documentación de timeseries [https://pandas.pydata.org/pandas-docs/stable/timeseries.html#offset-aliases] de panda: \n",
    "\n",
    "* Y: year end frequency\n",
    "* Q: quarter end frequency\n",
    "* M: month end frequency\n",
    "* W: weekly frequency"
   ]
  },
  {
   "cell_type": "markdown",
   "metadata": {},
   "source": [
    "## Selector de factores\n",
    "\n",
    "Es bastante común, al calcular los factores, hacer una selección excluyendo los máximos y mínimos, o lo que sea que un juicio experto considere.\n",
    "\n",
    "En este caso, podemos crear un DataFrame de datos para hacer el cálculo de los factores, y operar como sea necesario, por ejemplo, ordenandolos para excluir los factores primero y último:"
   ]
  },
  {
   "cell_type": "code",
   "execution_count": 15,
   "metadata": {},
   "outputs": [],
   "source": [
    "LDFs = np.ones(n)\n",
    "\n",
    "for i in range(n):\n",
    "    SumDev = pd.Series(accumulate[i], name='SumDev')\n",
    "    SumDevNext = pd.Series(accumulate[i+1], name='SumDevNext')\n",
    "    LDF_w = pd.concat([SumDev, SumDevNext], axis=1)[:-i-1]\n",
    "    LDF_w['Perc'] = LDF_w['SumDevNext'] / LDF_w['SumDev']\n",
    "    datasort = LDF_w.sort_values(by=['Perc'])\n",
    "    if len(datasort) > 2:\n",
    "        ratio = datasort[1:-1]['SumDevNext'].sum()/datasort[1:-1]['SumDev'].sum()\n",
    "    else:\n",
    "        ratio = datasort['SumDevNext'].sum()/datasort['SumDev'].sum()\n",
    "    LDFs[i] = ratio"
   ]
  },
  {
   "cell_type": "markdown",
   "metadata": {},
   "source": [
    "## Resultados\n",
    "\n",
    "| Freq | F. Select?  | Importe|\n",
    "|------|------|------|\n",
    "|  Y  |  No   | 209.718,35 |\n",
    "|  Q  |  No   | 215.174,03 |\n",
    "|  Y  |  Yes  | 202.931,33 |\n",
    "|  Q  |  Yes  | 210.891,32"
   ]
  },
  {
   "cell_type": "markdown",
   "metadata": {},
   "source": [
    "## Exportacion\n",
    "El triángulo exportado a csv o Excel tendría este aspecto:\n",
    "\n",
    "![title](Figure_2.png)"
   ]
  }
 ],
 "metadata": {
  "kernelspec": {
   "display_name": "Python 3",
   "language": "python",
   "name": "python3"
  },
  "language_info": {
   "codemirror_mode": {
    "name": "ipython",
    "version": 3
   },
   "file_extension": ".py",
   "mimetype": "text/x-python",
   "name": "python",
   "nbconvert_exporter": "python",
   "pygments_lexer": "ipython3",
   "version": "3.7.0"
  }
 },
 "nbformat": 4,
 "nbformat_minor": 2
}
