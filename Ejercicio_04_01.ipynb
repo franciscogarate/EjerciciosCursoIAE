{
 "cells": [
  {
   "cell_type": "markdown",
   "metadata": {},
   "source": [
    "# Ejercicio 4.1"
   ]
  },
  {
   "cell_type": "markdown",
   "metadata": {},
   "source": [
    "Importar en un dataframe la curva de tipos de interés sin riesgo publicada por EIOPA, sin ajuste\n",
    "de volatilidad, desde el fichero **EIOPA_RFR_20191231_Term_Structures.xlsx**"
   ]
  },
  {
   "cell_type": "code",
   "execution_count": 1,
   "metadata": {},
   "outputs": [
    {
     "name": "stdout",
     "output_type": "stream",
     "text": [
      "    t     Euro\n",
      "0   1 -0.00421\n",
      "1   2 -0.00391\n",
      "2   3 -0.00338\n",
      "3   4 -0.00285\n",
      "4   5 -0.00229\n",
      "5   6 -0.00164\n",
      "6   7 -0.00084\n",
      "7   8 -0.00018\n",
      "8   9  0.00047\n",
      "9  10  0.00113\n"
     ]
    }
   ],
   "source": [
    "import pandas as pd\n",
    "\n",
    "filename='EIOPA_RFR_20191231_Term_Structures.xlsx'\n",
    "sheetname='RFR_spot_no_VA'\n",
    "\n",
    "df = pd.read_excel(filename, sheet_name=sheetname, skiprows=9, usecols=(1,2), names=['t','Euro'])\n",
    "\n",
    "print(df.head(10)) #muestro las 10 primeras filas"
   ]
  },
  {
   "cell_type": "code",
   "execution_count": null,
   "metadata": {},
   "outputs": [],
   "source": []
  }
 ],
 "metadata": {
  "kernelspec": {
   "display_name": "Python 3",
   "language": "python",
   "name": "python3"
  },
  "language_info": {
   "codemirror_mode": {
    "name": "ipython",
    "version": 3
   },
   "file_extension": ".py",
   "mimetype": "text/x-python",
   "name": "python",
   "nbconvert_exporter": "python",
   "pygments_lexer": "ipython3",
   "version": "3.7.3"
  }
 },
 "nbformat": 4,
 "nbformat_minor": 2
}
