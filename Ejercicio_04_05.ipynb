{
 "cells": [
  {
   "cell_type": "markdown",
   "metadata": {},
   "source": [
    "# Ejercicio 4.5"
   ]
  },
  {
   "cell_type": "markdown",
   "metadata": {},
   "source": [
    "Con los mismos datos que el ejercicio nº 4.2, se pide:\n",
    "* Realizar el triangulo de pagos por periodos mensuales, trimestrales y anuales, utilizando tablas pivotantes."
   ]
  },
  {
   "cell_type": "code",
   "execution_count": 7,
   "metadata": {},
   "outputs": [
    {
     "name": "stdout",
     "output_type": "stream",
     "text": [
      "Dev             0        1        2        3        4       5\n",
      "Fec_ocu                                                      \n",
      "2013     118066.0  25877.0  12392.0   9743.0   8599.0  8977.0\n",
      "2014     119961.0  26543.0  13813.0  11509.0  10339.0     NaN\n",
      "2015     108140.0  27975.0  18551.0  14250.0      NaN     NaN\n",
      "2016     107660.0  34826.0  19814.0      NaN      NaN     NaN\n",
      "2017     112042.0  51641.0      NaN      NaN      NaN     NaN\n",
      "2018     133511.0      NaN      NaN      NaN      NaN     NaN\n"
     ]
    }
   ],
   "source": [
    "import pandas as pd\n",
    "import numpy as np\n",
    "\n",
    "data = pd.read_csv('Siniestros_2013_2018.csv', sep=';')\n",
    "\n",
    "#Posibles freq: https://pandas.pydata.org/pandas-docs/stable/timeseries.html#offset-aliases\n",
    "# Y=Anual, Q=Trimestral\n",
    "freq='Y'\n",
    "\n",
    "data['Fec_ocu'] = pd.to_datetime(data['Fec_ocu'], format='%d-%m-%Y')\n",
    "data['Fec_pago'] = pd.to_datetime(data['Fec_pago'], format='%d-%m-%Y')\n",
    "data['Fec_ocu'] = data['Fec_ocu'].dt.to_period(freq=freq)\n",
    "data['Fec_pago'] = data['Fec_pago'].dt.to_period(freq=freq)\n",
    "\n",
    "#NOTA: En versiones de Pandas anteriores a 0.24.2 es necesario pasar a entero los campos para restarlos\n",
    "data['Dev'] = data['Fec_pago'] - data['Fec_ocu']\n",
    "\n",
    "datagg = data.groupby(['Fec_ocu','Dev']).agg({'Importe':'sum'}).reset_index()\n",
    "\n",
    "triangulo = datagg.pivot(index='Fec_ocu', columns='Dev', values='Importe')\n",
    "print(triangulo)"
   ]
  },
  {
   "cell_type": "markdown",
   "metadata": {},
   "source": [
    "* Una vez calculado, exportar a un fichero Excel el triangulo anual de pagos acumulado."
   ]
  },
  {
   "cell_type": "code",
   "execution_count": 8,
   "metadata": {},
   "outputs": [],
   "source": [
    "acumulado = triangulo.cumsum(axis=1)\n",
    "acumulado.to_excel('acumulado.xlsx')"
   ]
  }
 ],
 "metadata": {
  "kernelspec": {
   "display_name": "Python 3",
   "language": "python",
   "name": "python3"
  },
  "language_info": {
   "codemirror_mode": {
    "name": "ipython",
    "version": 3
   },
   "file_extension": ".py",
   "mimetype": "text/x-python",
   "name": "python",
   "nbconvert_exporter": "python",
   "pygments_lexer": "ipython3",
   "version": "3.7.0"
  }
 },
 "nbformat": 4,
 "nbformat_minor": 2
}
