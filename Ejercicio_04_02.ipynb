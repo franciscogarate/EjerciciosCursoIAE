{
 "cells": [
  {
   "cell_type": "markdown",
   "metadata": {},
   "source": [
    "# Ejercicio 4.2"
   ]
  },
  {
   "cell_type": "markdown",
   "metadata": {},
   "source": [
    "Los datos de la siniestralidad (2013-2018) de una determinada cartera de pólizas se encuentra\n",
    "en el fichero: **Siniestros_2013_2018.csv**. Se pide:\n",
    "* Importar en un dataframe el fichero .csv y dar formato correcto a las columnas de fecha."
   ]
  },
  {
   "cell_type": "code",
   "execution_count": 2,
   "metadata": {},
   "outputs": [
    {
     "name": "stdout",
     "output_type": "stream",
     "text": [
      "Siniestro    False\n",
      "Poliza       False\n",
      "Fec_ocu      False\n",
      "Fec_com      False\n",
      "Fec_pago     False\n",
      "Importe      False\n",
      "dtype: bool\n",
      "   Siniestro  Poliza    Fec_ocu     Fec_com   Fec_pago  Importe\n",
      "0          1   31082 2016-09-12  21-09-2016 2017-07-03       83\n",
      "1          2   61275 2017-11-20  03-01-2018 2018-02-02       71\n",
      "2          3   72257 2013-06-10  25-06-2013 2013-07-15      115\n",
      "3          4   73111 2013-09-17  05-10-2013 2018-09-20       67\n",
      "4          5   84755 2017-06-30  12-07-2017 2017-09-30      122\n"
     ]
    }
   ],
   "source": [
    "import pandas as pd\n",
    "import numpy as np\n",
    "\n",
    "data = pd.read_csv('Siniestros_2013_2018.csv', sep=';')\n",
    "\n",
    "# Chequeo de datos\n",
    "print(data.isnull().any())\n",
    "\n",
    "data['Fec_ocu'] = pd.to_datetime(data['Fec_ocu'], format='%d-%m-%Y')\n",
    "data['Fec_pago'] = pd.to_datetime(data['Fec_pago'], format='%d-%m-%Y')\n",
    "print(data.head())"
   ]
  },
  {
   "cell_type": "markdown",
   "metadata": {},
   "source": [
    "* Convertir las columnas de Fec_ocu y Fec_pago en periodicidad mensual."
   ]
  },
  {
   "cell_type": "code",
   "execution_count": 3,
   "metadata": {},
   "outputs": [
    {
     "name": "stdout",
     "output_type": "stream",
     "text": [
      "   Siniestro  Poliza Fec_ocu     Fec_com Fec_pago  Importe\n",
      "0          1   31082 2016-09  21-09-2016  2017-07       83\n",
      "1          2   61275 2017-11  03-01-2018  2018-02       71\n",
      "2          3   72257 2013-06  25-06-2013  2013-07      115\n",
      "3          4   73111 2013-09  05-10-2013  2018-09       67\n",
      "4          5   84755 2017-06  12-07-2017  2017-09      122\n"
     ]
    }
   ],
   "source": [
    "data['Fec_ocu'] = data['Fec_ocu'].dt.to_period(freq='M')\n",
    "data['Fec_pago'] = data['Fec_pago'].dt.to_period(freq='M')\n",
    "\n",
    "print(data.head())"
   ]
  },
  {
   "cell_type": "code",
   "execution_count": null,
   "metadata": {},
   "outputs": [],
   "source": []
  }
 ],
 "metadata": {
  "kernelspec": {
   "display_name": "Python 3",
   "language": "python",
   "name": "python3"
  },
  "language_info": {
   "codemirror_mode": {
    "name": "ipython",
    "version": 3
   },
   "file_extension": ".py",
   "mimetype": "text/x-python",
   "name": "python",
   "nbconvert_exporter": "python",
   "pygments_lexer": "ipython3",
   "version": "3.7.3"
  }
 },
 "nbformat": 4,
 "nbformat_minor": 2
}
