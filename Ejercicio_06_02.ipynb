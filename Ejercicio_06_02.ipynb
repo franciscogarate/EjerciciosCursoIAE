{
 "cells": [
  {
   "cell_type": "markdown",
   "metadata": {},
   "source": [
    "# Ejercicio 6.2"
   ]
  },
  {
   "cell_type": "markdown",
   "metadata": {},
   "source": [
    "En el anexo XVII del Reglamento Delegado, figuran los requisitos y demostraciones que deben realizarse para la aprobación de parámetros específicos de empresa. Entre ellos, se debe demostrar que la siniestralidad agregada sigue una distribución logarítmica normal $LN(\\mu,\\sigma)$.\n",
    "Se pide, partiendo de los siniestros recogidos en el fichero *siniestralidad_agregada.csv*:\n",
    "* Calcular la media y varianza valiéndose de la técnica de remuestreo (bootstrap)\n",
    "obteniendo 10000 $\\overline{s}$."
   ]
  },
  {
   "cell_type": "code",
   "execution_count": 1,
   "metadata": {},
   "outputs": [
    {
     "name": "stdout",
     "output_type": "stream",
     "text": [
      "Siniestralidad agregada:  3059720.09\n"
     ]
    }
   ],
   "source": [
    "import pandas as pd\n",
    "import numpy as np\n",
    "import scipy.stats as st\n",
    "import matplotlib.pyplot as plt\n",
    "\n",
    "df = pd.read_csv('siniestralidad_agregada.csv', sep=\";\", decimal=\",\")\n",
    "siniestralidad_agregada = df['Importe'].sum()\n",
    "print('Siniestralidad agregada: ', siniestralidad_agregada)"
   ]
  },
  {
   "cell_type": "code",
   "execution_count": 2,
   "metadata": {},
   "outputs": [
    {
     "name": "stdout",
     "output_type": "stream",
     "text": [
      "14.933895171857364 0.004982015278364861\n"
     ]
    }
   ],
   "source": [
    "n = df.Importe.count()\n",
    "b = 10000\n",
    "\n",
    "sampling = pd.DataFrame(data=np.zeros(b),columns=['s'])\n",
    "for i in range(b):\n",
    "    sample = df.sample(n, replace=True)\n",
    "    summ = sample['Importe'].sum()\n",
    "    sampling['s'][i] = summ\n",
    "\n",
    "sampling['z'] = np.log(sampling['s'])\n",
    "boot_mean = sampling['z'].mean()\n",
    "boot_std = sampling['z'].std()\n",
    "#variables candidatas LN(mu=boot_mean, sigma=boot_stp)\n",
    "print(boot_mean, boot_std)\n",
    "#print(sampling['z'].describe())"
   ]
  },
  {
   "cell_type": "markdown",
   "metadata": {},
   "source": [
    "* Calcular los principales percentiles (.25, .5, 0.75) de la distribución teórica y compararlos\n",
    "con los datos de la distribución empírica de los siniestros.\n",
    "\n",
    "*AYUDA: siendo s la siniestralidad total y z la variable aleatoria normal, entonces $s = e^{z}$ y $z = log(s)$ con media y varianza:*\n",
    "\n",
    "$E(s) = e^{\\mu+\\frac{\\sigma^2}{2}}$\n",
    "$Var(s) = (e^{\\sigma^2} -1) e^{2\\mu+\\sigma^2}$"
   ]
  },
  {
   "cell_type": "code",
   "execution_count": 3,
   "metadata": {},
   "outputs": [
    {
     "data": {
      "image/png": "[encoded data removed]",
      "text/plain": [
       "<Figure size 432x288 with 1 Axes>"
      ]
     },
     "metadata": {
      "needs_background": "light"
     },
     "output_type": "display_data"
    }
   ],
   "source": [
    "mu=boot_mean\n",
    "sigma=boot_std \n",
    "lognormal = st.lognorm(s=sigma,scale=np.exp(mu))\n",
    "x = np.linspace(siniestralidad_agregada*0.98, siniestralidad_agregada*1.02, 100)\n",
    "plt.plot(x, lognormal.cdf(x))\n",
    "plt.show()"
   ]
  }
 ],
 "metadata": {
  "kernelspec": {
   "display_name": "Python 3",
   "language": "python",
   "name": "python3"
  },
  "language_info": {
   "codemirror_mode": {
    "name": "ipython",
    "version": 3
   },
   "file_extension": ".py",
   "mimetype": "text/x-python",
   "name": "python",
   "nbconvert_exporter": "python",
   "pygments_lexer": "ipython3",
   "version": "3.7.3"
  }
 },
 "nbformat": 4,
 "nbformat_minor": 2
}
