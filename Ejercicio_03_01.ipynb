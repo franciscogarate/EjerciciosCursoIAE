{
 "cells": [
  {
   "cell_type": "markdown",
   "metadata": {},
   "source": [
    "# Ejercicio 3.1"
   ]
  },
  {
   "cell_type": "markdown",
   "metadata": {},
   "source": [
    "Con los datos del ejercicio 2.2, se pide crear un diagrama de barras con cada uno de los\n",
    "importes de los submodulos del BSCR, así como el importe del efecto de diversificación,\n",
    "utilizando para ello **numpy** y **matplotlib**."
   ]
  },
  {
   "cell_type": "code",
   "execution_count": 3,
   "metadata": {},
   "outputs": [
    {
     "data": {
      "image/png": "[encoded data removed]",
      "text/plain": [
       "<Figure size 576x396 with 1 Axes>"
      ]
     },
     "metadata": {},
     "output_type": "display_data"
    }
   ],
   "source": [
    "import matplotlib.pyplot as plt\n",
    "import numpy as np\n",
    "\n",
    "SubSCR = np.array([95000.25,65000.50,25000.25,35000.45,125000.75])\n",
    "MatCorBSCR = np.array([[1, 0.25, 0.25, 0.25, 0.25],\n",
    "                        [0.25, 1, 0.25, 0.25, 0.5],\n",
    "                        [0.25, 0.25, 1, 0.25, 0],\n",
    "                        [0.25, 0.25, 0.25, 1, 0],\n",
    "                        [0.25, 0.5, 0, 0, 1]])\n",
    "\n",
    "BasicSCR = np.sqrt(np.dot(np.dot(SubSCR, MatCorBSCR),SubSCR.transpose()))\n",
    "BasicSCR_Vector = np.insert(SubSCR, 5, BasicSCR-sum(SubSCR))\n",
    "\n",
    "x = np.arange(6)\n",
    "plt.style.use('seaborn')\n",
    "plt.bar(x, BasicSCR_Vector, align='center', alpha=0.5)\n",
    "plt.xticks(x, ('Mercado', 'Credito', 'Vida', 'Salud', 'No Vida','Diversif.'))\n",
    "plt.show()"
   ]
  },
  {
   "cell_type": "code",
   "execution_count": null,
   "metadata": {},
   "outputs": [],
   "source": []
  }
 ],
 "metadata": {
  "kernelspec": {
   "display_name": "Python 3",
   "language": "python",
   "name": "python3"
  },
  "language_info": {
   "codemirror_mode": {
    "name": "ipython",
    "version": 3
   },
   "file_extension": ".py",
   "mimetype": "text/x-python",
   "name": "python",
   "nbconvert_exporter": "python",
   "pygments_lexer": "ipython3",
   "version": "3.7.3"
  }
 },
 "nbformat": 4,
 "nbformat_minor": 2
}
