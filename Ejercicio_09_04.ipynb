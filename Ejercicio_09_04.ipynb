{
 "cells": [
  {
   "cell_type": "markdown",
   "metadata": {},
   "source": [
    "# Ejercicio 9.4\n",
    "\n",
    "Calcular la reserva de una seguro temporal de vida-riesgo a prima periódica aplicando el principio de equilibrio, para una edad de 40, duración 20, capital 100.000 y base técnica: GKM95 al 3\\%.\n",
    "\n",
    "${}_{0}V_{x} = A_{x} - \\pi \\cdot \\ddot{a}_{x} = 0$ \n",
    "\n",
    "$\\pi = \\cfrac{A{x}{n}}{ä{x}{n}}$\n",
    "\n",
    "\n",
    "${}_{t}V_{x} = A{40+t}{10-t} - \\pi \\cdot ä{40+t}{10-t}$\n"
   ]
  },
  {
   "cell_type": "code",
   "execution_count": 13,
   "metadata": {},
   "outputs": [
    {
     "data": {
      "text/plain": [
       "array([   0.  ,  253.34,  501.92,  743.94,  977.36, 1199.79, 1408.34,\n",
       "       1599.67, 1769.94, 1914.83, 2029.44, 2108.34, 2145.56, 2134.42,\n",
       "       2067.62, 1937.21, 1734.56, 1450.27, 1074.07,  594.76,    0.  ])"
      ]
     },
     "execution_count": 13,
     "metadata": {},
     "output_type": "execute_result"
    }
   ],
   "source": [
    "from pyliferisk import *\n",
    "from pyliferisk.mortalitytables import GKM95\n",
    "import numpy as np\n",
    "\n",
    "nt = Actuarial(nt=GKM95, i=0.03)\n",
    "x, n, Cm = 40, 20, 100000\n",
    "\n",
    "Premium = Cm * Axn(nt, x, n) / annuity(nt, x, n, 0)\n",
    "\n",
    "def Reserve(t):\n",
    "   return round(Cm * Axn(nt, x+t, n-t) - Premium * annuity(nt, x+t, n-t, 0),2)\n",
    "\n",
    "reserve = np.zeros(n+1)\n",
    "for t in range(n):\n",
    "   reserve[t] = Reserve(t)\n",
    "\n",
    "reserve"
   ]
  },
  {
   "cell_type": "code",
   "execution_count": 18,
   "metadata": {},
   "outputs": [
    {
     "data": {
      "text/plain": [
       "[<matplotlib.lines.Line2D at 0x2305792ba90>]"
      ]
     },
     "execution_count": 18,
     "metadata": {},
     "output_type": "execute_result"
    },
    {
     "data": {
      "image/png": "[encoded data removed]",
      "text/plain": [
       "<Figure size 432x288 with 1 Axes>"
      ]
     },
     "metadata": {
      "needs_background": "light"
     },
     "output_type": "display_data"
    }
   ],
   "source": [
    "import matplotlib.pyplot as plt\n",
    "\n",
    "x = list(range(n+1))\n",
    "y = reserve\n",
    "plt.plot(x, y)"
   ]
  }
 ],
 "metadata": {
  "kernelspec": {
   "display_name": "Python 3",
   "language": "python",
   "name": "python3"
  },
  "language_info": {
   "codemirror_mode": {
    "name": "ipython",
    "version": 3
   },
   "file_extension": ".py",
   "mimetype": "text/x-python",
   "name": "python",
   "nbconvert_exporter": "python",
   "pygments_lexer": "ipython3",
   "version": "3.7.0"
  }
 },
 "nbformat": 4,
 "nbformat_minor": 2
}
