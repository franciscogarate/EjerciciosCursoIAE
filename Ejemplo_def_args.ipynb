{
 "cells": [
  {
   "cell_type": "code",
   "execution_count": 1,
   "metadata": {},
   "outputs": [
    {
     "name": "stdout",
     "output_type": "stream",
     "text": [
      "25\n",
      "12.5\n"
     ]
    }
   ],
   "source": [
    "def mifunc1(x, y=1):\n",
    "    return x * y\n",
    "\n",
    "print(mifunc1(25))\n",
    "print(mifunc1(25,0.5))"
   ]
  },
  {
   "cell_type": "code",
   "execution_count": 2,
   "metadata": {},
   "outputs": [
    {
     "name": "stdout",
     "output_type": "stream",
     "text": [
      "0.5\n",
      "[12.5 25.  37.5]\n"
     ]
    }
   ],
   "source": [
    "import numpy as np\n",
    "def mifunc2(x, *args): #ordena valores y devuelve el valor dividido entre x\n",
    "    args = np.sort(args)\n",
    "    for i in args:\n",
    "        return i / x\n",
    "\n",
    "importes = [50, 25, 75]\n",
    "\n",
    "print(mifunc2(2, 1))\n",
    "print(mifunc2(2, importes))"
   ]
  },
  {
   "cell_type": "code",
   "execution_count": null,
   "metadata": {},
   "outputs": [],
   "source": []
  }
 ],
 "metadata": {
  "kernelspec": {
   "display_name": "Python 3",
   "language": "python",
   "name": "python3"
  },
  "language_info": {
   "codemirror_mode": {
    "name": "ipython",
    "version": 3
   },
   "file_extension": ".py",
   "mimetype": "text/x-python",
   "name": "python",
   "nbconvert_exporter": "python",
   "pygments_lexer": "ipython3",
   "version": "3.7.3"
  }
 },
 "nbformat": 4,
 "nbformat_minor": 2
}
