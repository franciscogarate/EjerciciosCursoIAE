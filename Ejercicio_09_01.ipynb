{
 "cells": [
  {
   "cell_type": "markdown",
   "metadata": {},
   "source": [
    "# Ejercicio 9.1\n",
    "\n",
    "Utilizando Pandas y NumPy, calcular las edades para cada asegurado del colectivo incluido en el fichero *edades.csv*, a la fecha de valoración 31-12-2019."
   ]
  },
  {
   "cell_type": "code",
   "execution_count": 1,
   "metadata": {},
   "outputs": [
    {
     "name": "stdout",
     "output_type": "stream",
     "text": [
      "                 Nombre        Fnac  Importe\n",
      "0  Rosendo Mercado Ruiz  23/02/1954     1000\n",
      "1       Rafael J. Vegas  06/06/1965     1000\n",
      "2  Mariano Montero Arce  06/12/1969     1000\n"
     ]
    }
   ],
   "source": [
    "import pandas as pd\n",
    "import numpy as np\n",
    "\n",
    "f_val = pd.to_datetime('2019-12-31')\n",
    "df = pd.read_csv('colectivo.csv', sep=';', names=['Nombre','Fnac','Importe'])\n",
    "print(df)"
   ]
  },
  {
   "cell_type": "code",
   "execution_count": 2,
   "metadata": {},
   "outputs": [
    {
     "name": "stdout",
     "output_type": "stream",
     "text": [
      "                 Nombre       Fnac  Importe  Edad\n",
      "0  Rosendo Mercado Ruiz 1954-02-23     1000  66.0\n",
      "1       Rafael J. Vegas 1965-06-06     1000  55.0\n",
      "2  Mariano Montero Arce 1969-12-06     1000  50.0\n"
     ]
    }
   ],
   "source": [
    "df['Fnac'] = pd.to_datetime(df['Fnac'].astype(str), format='%d/%m/%Y')\n",
    "df['Edad'] = np.rint((f_val - df['Fnac']).dt.days / 365.2425)\n",
    "print(df)"
   ]
  }
 ],
 "metadata": {
  "kernelspec": {
   "display_name": "Python 3",
   "language": "python",
   "name": "python3"
  },
  "language_info": {
   "codemirror_mode": {
    "name": "ipython",
    "version": 3
   },
   "file_extension": ".py",
   "mimetype": "text/x-python",
   "name": "python",
   "nbconvert_exporter": "python",
   "pygments_lexer": "ipython3",
   "version": "3.7.3"
  }
 },
 "nbformat": 4,
 "nbformat_minor": 2
}
