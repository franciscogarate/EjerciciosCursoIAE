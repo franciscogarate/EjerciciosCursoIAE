{
 "cells": [
  {
   "cell_type": "markdown",
   "metadata": {},
   "source": [
    "# Ejercicio 5.1"
   ]
  },
  {
   "cell_type": "markdown",
   "metadata": {},
   "source": [
    "Una compañía deberá indemnizar con 167 euros por día hospitalizado en caso de accidente. Los datos disponibles de siniestralidad histórica muestran una probabilidad anual de accidente del 1.2 %, con una duración de la estancia que sigue una distribución normal de media 7.5 y desviación típica de 1.75.\n",
    "\n",
    "Se pide calcular la prima de riesgo necesaria para que con un 99.5 % de probabilidad las duraciones de la estancia estén por debajo de la esperada."
   ]
  },
  {
   "cell_type": "code",
   "execution_count": 3,
   "metadata": {},
   "outputs": [
    {
     "name": "stdout",
     "output_type": "stream",
     "text": [
      "24.063433367545993\n"
     ]
    }
   ],
   "source": [
    "import scipy.stats as st\n",
    "media = 7.5\n",
    "std = 1.75\n",
    "importe_995 = st.norm.ppf(0.995, loc=media, scale=std)\n",
    "\n",
    "#print(0.012 * 167 * 7.5)\n",
    "print(0.012 * 167 * importe_995)"
   ]
  },
  {
   "cell_type": "code",
   "execution_count": null,
   "metadata": {},
   "outputs": [],
   "source": []
  }
 ],
 "metadata": {
  "kernelspec": {
   "display_name": "Python 3",
   "language": "python",
   "name": "python3"
  },
  "language_info": {
   "codemirror_mode": {
    "name": "ipython",
    "version": 3
   },
   "file_extension": ".py",
   "mimetype": "text/x-python",
   "name": "python",
   "nbconvert_exporter": "python",
   "pygments_lexer": "ipython3",
   "version": "3.7.0"
  }
 },
 "nbformat": 4,
 "nbformat_minor": 2
}
