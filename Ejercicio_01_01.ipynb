{
 "cells": [
  {
   "cell_type": "markdown",
   "metadata": {},
   "source": [
    "# Ejercicio 1.1"
   ]
  },
  {
   "cell_type": "markdown",
   "metadata": {},
   "source": [
    "La tasa de bajas de nuestra cartera es del 2.5% cada mes, excepto los meses de Julio y Agosto que es un 1%, y los meses impares que sube al 3.5%.\n",
    "\n",
    "Se pide, crear un función que introduciendo el número del mes  nos devuelva la tasa de baja mensual, mostrando un mensaje de error para meses que no correspondan con los números enteros del 1 al 12."
   ]
  },
  {
   "cell_type": "code",
   "execution_count": 1,
   "metadata": {},
   "outputs": [],
   "source": [
    "def tasa_bajas(mes):\n",
    "    try:\n",
    "        if mes > 12:\n",
    "            raise ValueError\n",
    "\n",
    "        if isinstance(mes, float):\n",
    "            raise TypeError\n",
    "\n",
    "        if mes == 6 or mes == 7:\n",
    "            return .01\n",
    "        elif mes % 2 != 0:\n",
    "            return .035\n",
    "        else:\n",
    "            return 0.025\n",
    "\n",
    "    except(TypeError):\n",
    "        print('El mes debe ser un valor entero')\n",
    "\n",
    "    except(ValueError):\n",
    "        print('El valor no esta dentro del rango')"
   ]
  },
  {
   "cell_type": "markdown",
   "metadata": {},
   "source": [
    "Mostramos la tasa de error para los 12 meses:"
   ]
  },
  {
   "cell_type": "code",
   "execution_count": 2,
   "metadata": {},
   "outputs": [
    {
     "name": "stdout",
     "output_type": "stream",
     "text": [
      "1 0.035\n",
      "2 0.025\n",
      "3 0.035\n",
      "4 0.025\n",
      "5 0.035\n",
      "6 0.01\n",
      "7 0.01\n",
      "8 0.025\n",
      "9 0.035\n",
      "10 0.025\n",
      "11 0.035\n",
      "12 0.025\n"
     ]
    }
   ],
   "source": [
    "for i in range(1,13):\n",
    "    print(i, tasa_bajas(i))"
   ]
  },
  {
   "cell_type": "markdown",
   "metadata": {},
   "source": [
    "Chequeamos los mensajes de error:"
   ]
  },
  {
   "cell_type": "code",
   "execution_count": 3,
   "metadata": {},
   "outputs": [
    {
     "name": "stdout",
     "output_type": "stream",
     "text": [
      "El mes debe ser un valor entero\n",
      "None\n",
      "El mes debe ser un valor entero\n",
      "None\n",
      "El valor no esta dentro del rango\n",
      "None\n"
     ]
    }
   ],
   "source": [
    "print(tasa_bajas(5.5))\n",
    "print(tasa_bajas('12'))\n",
    "print(tasa_bajas(15))"
   ]
  },
  {
   "cell_type": "markdown",
   "metadata": {},
   "source": [
    "NOTA: Este ejemplo es ilustrativo para introducirse en la creación de funciones. Si se diera justo este caso, la mejor opción sería crear una lista **'tasa_bajas[0, 0.035, 0.025..]'** obteniendo el dato con un simple **'tasa_bajas[mes]'**\n"
   ]
  }
 ],
 "metadata": {
  "kernelspec": {
   "display_name": "Python 3",
   "language": "python",
   "name": "python3"
  },
  "language_info": {
   "codemirror_mode": {
    "name": "ipython",
    "version": 3
   },
   "file_extension": ".py",
   "mimetype": "text/x-python",
   "name": "python",
   "nbconvert_exporter": "python",
   "pygments_lexer": "ipython3",
   "version": "3.7.3"
  }
 },
 "nbformat": 4,
 "nbformat_minor": 2
}
