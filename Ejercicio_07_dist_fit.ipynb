{
 "cells": [
  {
   "cell_type": "markdown",
   "metadata": {},
   "source": [
    "# Ejercicio 7 - Modelos de Ajuste a una distribución"
   ]
  },
  {
   "cell_type": "code",
   "execution_count": null,
   "metadata": {},
   "outputs": [],
   "source": [
    "import matplotlib.pyplot as plt\n",
    "import scipy.stats as st\n",
    "import numpy as np\n",
    "plt.style.use('seaborn')\n",
    "size = 10000\n",
    "np.random.seed(999)\n",
    "x = np.arange(size)\n",
    "y = np.random.lognormal(np.log(10), np.log(2), size)\n",
    "\n",
    "distrs = ['rayleigh', 'norm', 'lognorm', 'gamma', 'beta', 'exponweib', 'invweibull']\n",
    "\n",
    "for i in distrs:\n",
    "    dist = getattr(st, i)\n",
    "    param = dist.fit(y)\n",
    "    pdf_fitted = dist.pdf(x, *param[:-2], loc=param[-2], scale=param[-1]) * size\n",
    "    plt.plot(pdf_fitted, label=i)\n",
    "    plt.xlim(0,35)\n",
    "plt.hist(y, bins=range(50), alpha=0.75)\n",
    "plt.legend(loc='upper right')\n",
    "plt.show()"
   ]
  },
  {
   "cell_type": "code",
   "execution_count": null,
   "metadata": {},
   "outputs": [],
   "source": []
  }
 ],
 "metadata": {
  "kernelspec": {
   "display_name": "Python 3",
   "language": "python",
   "name": "python3"
  },
  "language_info": {
   "codemirror_mode": {
    "name": "ipython",
    "version": 3
   },
   "file_extension": ".py",
   "mimetype": "text/x-python",
   "name": "python",
   "nbconvert_exporter": "python",
   "pygments_lexer": "ipython3",
   "version": "3.7.0"
  }
 },
 "nbformat": 4,
 "nbformat_minor": 2
}
