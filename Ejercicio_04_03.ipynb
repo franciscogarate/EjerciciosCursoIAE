{
 "cells": [
  {
   "cell_type": "markdown",
   "metadata": {},
   "source": [
    "# Ejercicio 4.3"
   ]
  },
  {
   "cell_type": "markdown",
   "metadata": {},
   "source": [
    "Con los cálculos del Ejercicio nº 4.1 (curva RFR de EIOPA), se pide:\n",
    "* Añadir nueva columna con un ingreso constante de 100 durante 15 años\n",
    "* Añadir nueva columna con el factor de descuento a utilizar"
   ]
  },
  {
   "cell_type": "code",
   "execution_count": 5,
   "metadata": {},
   "outputs": [
    {
     "name": "stdout",
     "output_type": "stream",
     "text": [
      "   t     Euro  ingreso  factor_dto\n",
      "0  1 -0.00421    100.0    1.004228\n",
      "1  2 -0.00391    100.0    1.007866\n",
      "2  3 -0.00338    100.0    1.010209\n",
      "3  4 -0.00285    100.0    1.011482\n",
      "4  5 -0.00229    100.0    1.011529\n"
     ]
    }
   ],
   "source": [
    "import pandas as pd\n",
    "import numpy as np\n",
    "\n",
    "filename='EIOPA_RFR_20191231_Term_Structures.xlsx'\n",
    "sheetname='RFR_spot_no_VA'\n",
    "\n",
    "df = pd.read_excel(filename, sheet_name=sheetname, skiprows=9, usecols=(1,2), names=['t','Euro'])\n",
    "\n",
    "df = df[df['t'] <= 15].copy()\n",
    "df['ingreso'] = 100.\n",
    "df['factor_dto'] = 1 / ((1 + df['Euro']) ** df['t'])\n",
    "print(df.head())"
   ]
  },
  {
   "cell_type": "markdown",
   "metadata": {},
   "source": [
    "* Calcular el NPV de los ingresos descontados con la curva de riesgo"
   ]
  },
  {
   "cell_type": "code",
   "execution_count": 7,
   "metadata": {},
   "outputs": [
    {
     "name": "stdout",
     "output_type": "stream",
     "text": [
      "1487.32\n"
     ]
    }
   ],
   "source": [
    "pv_ingresos = np.vdot(df['ingreso'], df['factor_dto']).round(2)\n",
    "print(pv_ingresos)"
   ]
  },
  {
   "cell_type": "code",
   "execution_count": null,
   "metadata": {},
   "outputs": [],
   "source": []
  }
 ],
 "metadata": {
  "kernelspec": {
   "display_name": "Python 3",
   "language": "python",
   "name": "python3"
  },
  "language_info": {
   "codemirror_mode": {
    "name": "ipython",
    "version": 3
   },
   "file_extension": ".py",
   "mimetype": "text/x-python",
   "name": "python",
   "nbconvert_exporter": "python",
   "pygments_lexer": "ipython3",
   "version": "3.7.3"
  }
 },
 "nbformat": 4,
 "nbformat_minor": 2
}
