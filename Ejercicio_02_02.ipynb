{
 "cells": [
  {
   "cell_type": "markdown",
   "metadata": {},
   "source": [
    "# Ejercicio 2.2"
   ]
  },
  {
   "cell_type": "markdown",
   "metadata": {},
   "source": [
    "Supongamos que en una cartera a prima única se espera una siniestralidad total acumulada del\n",
    "50 % de la prima repartida linealmente durante los 7 años de vigencia.\n",
    "\n",
    "Se pide calcular la siniestralidad estimada que tendría la cartera valorada en t=0 teniendo en\n",
    "cuenta una prima de 1.000, una hipótesis del 2 % anual de inflación en los importes a pagar y\n",
    "una tasa de descuento del 0.5 % anual"
   ]
  },
  {
   "cell_type": "code",
   "execution_count": 7,
   "metadata": {},
   "outputs": [
    {
     "name": "stdout",
     "output_type": "stream",
     "text": [
      "[71.42857143 71.42857143 71.42857143 71.42857143 71.42857143 71.42857143\n",
      " 71.42857143]\n"
     ]
    }
   ],
   "source": [
    "import numpy as np\n",
    "\n",
    "claims = np.array([0.5 / 7] * 7) * 1000\n",
    "\n",
    "print(claims)"
   ]
  },
  {
   "cell_type": "code",
   "execution_count": 8,
   "metadata": {},
   "outputs": [
    {
     "name": "stdout",
     "output_type": "stream",
     "text": [
      "[1.02       1.0404     1.061208   1.08243216 1.1040808  1.12616242\n",
      " 1.14868567]\n"
     ]
    }
   ],
   "source": [
    "inflac = np.array([1.02] * 7).cumprod()\n",
    "\n",
    "print(inflac)"
   ]
  },
  {
   "cell_type": "code",
   "execution_count": 9,
   "metadata": {},
   "outputs": [
    {
     "name": "stdout",
     "output_type": "stream",
     "text": [
      "[72.85714286 74.31428571 75.80057143 77.31658286 78.86291451 80.4401728\n",
      " 82.04897626]\n"
     ]
    }
   ],
   "source": [
    "pagos = claims * inflac\n",
    "\n",
    "print(pagos)"
   ]
  },
  {
   "cell_type": "code",
   "execution_count": 12,
   "metadata": {},
   "outputs": [
    {
     "name": "stdout",
     "output_type": "stream",
     "text": [
      "533.412430883035\n"
     ]
    }
   ],
   "source": [
    "va_pagos = np.npv(0.5/100, pagos)\n",
    "\n",
    "print(va_pagos)"
   ]
  },
  {
   "cell_type": "markdown",
   "metadata": {},
   "source": [
    "### NOTA: En la version 1.20 de Numpy habrá que utilizar numpy_financial"
   ]
  },
  {
   "cell_type": "code",
   "execution_count": null,
   "metadata": {},
   "outputs": [],
   "source": [
    "import numpy_financial as nfr\n",
    "npf.npv([-250000, 100000, 150000, 200000, 250000, 300000])"
   ]
  }
 ],
 "metadata": {
  "kernelspec": {
   "display_name": "Python 3",
   "language": "python",
   "name": "python3"
  },
  "language_info": {
   "codemirror_mode": {
    "name": "ipython",
    "version": 3
   },
   "file_extension": ".py",
   "mimetype": "text/x-python",
   "name": "python",
   "nbconvert_exporter": "python",
   "pygments_lexer": "ipython3",
   "version": "3.7.0"
  }
 },
 "nbformat": 4,
 "nbformat_minor": 2
}
