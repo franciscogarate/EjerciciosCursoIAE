{
 "cells": [
  {
   "cell_type": "markdown",
   "metadata": {},
   "source": [
    "# Ejercicio 4.4"
   ]
  },
  {
   "cell_type": "markdown",
   "metadata": {},
   "source": [
    "Con los mismos datos que el ejercicio nº 4.2, se pide crear un fichero .csv con los datos de siniestralidad agrupados por mes de ocurrencia y mes de pago"
   ]
  },
  {
   "cell_type": "code",
   "execution_count": 4,
   "metadata": {},
   "outputs": [
    {
     "name": "stdout",
     "output_type": "stream",
     "text": [
      "Siniestro    False\n",
      "Poliza       False\n",
      "Fec_ocu      False\n",
      "Fec_com      False\n",
      "Fec_pago     False\n",
      "Importe      False\n",
      "dtype: bool\n",
      "  Fec_ocu Fec_pago  Importe\n",
      "0 2013-01  2013-01     1052\n",
      "1 2013-01  2013-02     5129\n",
      "2 2013-01  2013-03     3919\n",
      "3 2013-01  2013-04      260\n",
      "4 2013-01  2013-05      143\n"
     ]
    }
   ],
   "source": [
    "import pandas as pd\n",
    "import numpy as np\n",
    "\n",
    "data = pd.read_csv('Siniestros_2013_2018.csv', sep=';')\n",
    "\n",
    "# Chequeo de datos\n",
    "print(data.isnull().any())\n",
    "\n",
    "data['Fec_ocu'] = pd.to_datetime(data['Fec_ocu'], format='%d-%m-%Y')\n",
    "data['Fec_pago'] = pd.to_datetime(data['Fec_pago'], format='%d-%m-%Y')\n",
    "data['Fec_ocu'] = data['Fec_ocu'].dt.to_period(freq='M')\n",
    "data['Fec_pago'] = data['Fec_pago'].dt.to_period(freq='M')\n",
    "\n",
    "datagg = data.groupby([data['Fec_ocu'], data['Fec_pago']]).agg({'Importe':'sum'}).reset_index()\n",
    "\n",
    "print(datagg.head())\n",
    "datagg.to_csv('datagg.csv',sep=';',decimal=',')"
   ]
  },
  {
   "cell_type": "code",
   "execution_count": null,
   "metadata": {},
   "outputs": [],
   "source": []
  }
 ],
 "metadata": {
  "kernelspec": {
   "display_name": "Python 3",
   "language": "python",
   "name": "python3"
  },
  "language_info": {
   "codemirror_mode": {
    "name": "ipython",
    "version": 3
   },
   "file_extension": ".py",
   "mimetype": "text/x-python",
   "name": "python",
   "nbconvert_exporter": "python",
   "pygments_lexer": "ipython3",
   "version": "3.7.3"
  }
 },
 "nbformat": 4,
 "nbformat_minor": 2
}
